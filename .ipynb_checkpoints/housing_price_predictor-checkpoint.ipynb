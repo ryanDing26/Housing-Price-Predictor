{
 "cells": [
  {
   "cell_type": "markdown",
   "id": "7cce0c70-34ba-408a-bab8-415a040fd50e",
   "metadata": {},
   "source": [
    "# Housing Price Predictor\n",
    "\n",
    "I will be analyzing the median housing prices, both in general and with relations to its square footage, to predict how much a house will cost in a given state in the future."
   ]
  },
  {
   "cell_type": "code",
   "execution_count": 32,
   "id": "441a5080-0dfa-4654-804d-66e8528cf92b",
   "metadata": {},
   "outputs": [
    {
     "name": "stdout",
     "output_type": "stream",
     "text": [
      "Requirement already satisfied: scikit-learn in c:\\users\\ryand\\miniconda3\\lib\\site-packages (1.5.0)\n",
      "Requirement already satisfied: threadpoolctl>=3.1.0 in c:\\users\\ryand\\miniconda3\\lib\\site-packages (from scikit-learn) (3.5.0)\n",
      "Requirement already satisfied: scipy>=1.6.0 in c:\\users\\ryand\\miniconda3\\lib\\site-packages (from scikit-learn) (1.12.0)\n",
      "Requirement already satisfied: joblib>=1.2.0 in c:\\users\\ryand\\miniconda3\\lib\\site-packages (from scikit-learn) (1.4.2)\n",
      "Requirement already satisfied: numpy>=1.19.5 in c:\\users\\ryand\\miniconda3\\lib\\site-packages (from scikit-learn) (1.26.4)\n"
     ]
    }
   ],
   "source": [
    "# Install the required scikit-learn package\n",
    "!pip install scikit-learn"
   ]
  },
  {
   "cell_type": "code",
   "execution_count": 33,
   "id": "97db5176-b115-48be-8583-68a55d2b8819",
   "metadata": {},
   "outputs": [],
   "source": [
    "# Necessary libraries to perform predictive task\n",
    "import pandas as pd\n",
    "import numpy as np\n",
    "from sklearn import linear_model\n",
    "from sklearn.linear_model import LinearRegression, Lasso\n",
    "from statsmodels.tsa.ar_model import AutoReg\n",
    "from sklearn.model_selection import train_test_split\n",
    "from sklearn.metrics import r2_score, mean_absolute_error, mean_squared_error\n",
    "from datetime import date"
   ]
  },
  {
   "cell_type": "code",
   "execution_count": 34,
   "id": "98984428-8a6e-499e-9625-d16e99e5f0d8",
   "metadata": {},
   "outputs": [],
   "source": [
    "# Simple tests to see if all libraries were imported successfully\n",
    "assert pd\n",
    "assert np\n",
    "assert linear_model\n",
    "assert LinearRegression\n",
    "assert Lasso\n",
    "assert AutoReg\n",
    "assert train_test_split\n",
    "assert r2_score\n",
    "assert mean_absolute_error\n",
    "assert mean_squared_error\n",
    "assert date"
   ]
  },
  {
   "cell_type": "code",
   "execution_count": 35,
   "id": "dcf1ce4b-4dd0-4d1d-a7ea-6095505a65dd",
   "metadata": {},
   "outputs": [],
   "source": [
    "# Constants\n",
    "ABBREV_TO_STATES = {\"AL\":\"Alabama\",\"AK\":\"Alaska\",\"AZ\":\"Arizona\",\"AR\":\"Arkansas\",\"CA\":\"California\",\"CO\":\"Colorado\",\"CT\":\"Connecticut\",\"DE\":\"Delaware\",\"FL\":\"Florida\",\"GA\":\"Georgia\",\"HI\":\"Hawaii\",\"ID\":\"Idaho\",\"IL\":\"Illinois\",\"IN\":\"Indiana\",\"IA\":\"Iowa\",\"KS\":\"Kansas\",\"KY\":\"Kentucky\",\"LA\":\"Louisiana\",\"ME\":\"Maine\",\"MD\":\"Maryland\",\"MA\":\"Massachusetts\",\"MI\":\"Michigan\",\"MN\":\"Minnesota\",\"MS\":\"Mississippi\",\"MO\":\"Missouri\",\"MT\":\"Montana\",\"NE\":\"Nebraska\",\"NV\":\"Nevada\",\"NH\":\"New Hampshire\",\"NJ\":\"New Jersey\",\"NM\":\"New Mexico\",\"NY\":\"New York\",\"NC\":\"North Carolina\",\"ND\":\"North Dakota\",\"OH\":\"Ohio\",\"OK\":\"Oklahoma\",\"OR\":\"Oregon\",\"PA\":\"Pennsylvania\",\"RI\":\"Rhode Island\",\"SC\":\"South Carolina\",\"SD\":\"South Dakota\",\"TN\":\"Tennessee\",\"TX\":\"Texas\",\"UT\":\"Utah\",\"VT\":\"Vermont\",\"VA\":\"Virginia\",\"WA\":\"Washington\",\"WV\":\"West Virginia\",\"WI\":\"Wisconsin\",\"WY\":\"Wyoming\"}\n",
    "STATES_TO_ABBREV = {v: k for k, v in ABBREV_TO_STATES.items()}\n",
    "DATASET = 'data/housing_data.csv'"
   ]
  },
  {
   "cell_type": "markdown",
   "id": "c41fc3e7-a586-4355-ab56-79102b19c348",
   "metadata": {},
   "source": [
    "## Step 1: Obtain and Preprocess Data\n",
    "\n",
    "For this task, we will be obtaining our data from Realtor.com’s Data Library, which can be found [here](https://www.realtor.com/research/data/). The data used in this project is historical data on median housing prices refined to a location's Zip code."
   ]
  },
  {
   "cell_type": "code",
   "execution_count": 36,
   "id": "77f45b5d-f8f4-439a-8f91-8bd1b1cfa137",
   "metadata": {},
   "outputs": [],
   "source": [
    "def preprocess_data(url=DATASET) -> pd.DataFrame:\n",
    "    '''Retrieves and preprocesses housing data from the web.\n",
    "    \n",
    "    Parameters\n",
    "    ----------\n",
    "    url: string\n",
    "        URL of link housing data is retrieved from\n",
    "    \n",
    "    Returns\n",
    "    -------\n",
    "    data: DataFrame\n",
    "        DataFrame of housing data, which includes statistics on its location, date, and median pricing\n",
    "    '''\n",
    "    columns = ['Date', 'Location', 'Median Price', 'Median PPSF']\n",
    "    data = pd.read_csv(url)\n",
    "    data.rename(columns={\n",
    "        'month_date_yyyymm': 'Date',\n",
    "        'zip_name' : 'Location',\n",
    "        'median_listing_price': 'Median Price',\n",
    "        'median_listing_price_per_square_foot': 'Median PPSF'\n",
    "        }, inplace = True)\n",
    "\n",
    "    data = data[columns]\n",
    "    return data"
   ]
  },
  {
   "cell_type": "code",
   "execution_count": null,
   "id": "6c9763f6-6d47-4306-a1c9-ea4874906083",
   "metadata": {},
   "outputs": [],
   "source": [
    "data = preprocess_data()\n",
    "data"
   ]
  },
  {
   "cell_type": "code",
   "execution_count": null,
   "id": "1612b1e2-d251-4def-a7a2-a1bfa14391ba",
   "metadata": {},
   "outputs": [],
   "source": []
  },
  {
   "cell_type": "code",
   "execution_count": null,
   "id": "469798f7-6c88-470b-9b8b-960f386c501b",
   "metadata": {},
   "outputs": [],
   "source": []
  }
 ],
 "metadata": {
  "kernelspec": {
   "display_name": "Python 3 (ipykernel)",
   "language": "python",
   "name": "python3"
  },
  "language_info": {
   "codemirror_mode": {
    "name": "ipython",
    "version": 3
   },
   "file_extension": ".py",
   "mimetype": "text/x-python",
   "name": "python",
   "nbconvert_exporter": "python",
   "pygments_lexer": "ipython3",
   "version": "3.10.9"
  }
 },
 "nbformat": 4,
 "nbformat_minor": 5
}
